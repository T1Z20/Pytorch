{
 "cells": [
  {
   "cell_type": "markdown",
   "metadata": {},
   "source": [
    "Practica : entrenar red nbeuronal para clasifiar imagenes de numeros (28x28) "
   ]
  },
  {
   "cell_type": "code",
   "execution_count": 1,
   "metadata": {},
   "outputs": [],
   "source": [
    "import torch "
   ]
  },
  {
   "cell_type": "code",
   "execution_count": 14,
   "metadata": {},
   "outputs": [
    {
     "name": "stdout",
     "output_type": "stream",
     "text": [
      "<class 'torch.Tensor'>\n",
      "tensor([[1, 2, 3],\n",
      "        [4, 5, 6]])\n"
     ]
    }
   ],
   "source": [
    "## Un tensor es una manera organizada de almacenar un arreglo de datos (EJ : datos tabulares , imagenes ,audio , texto ) puede ser tanto un vector (1 dimension) como una matriz (2 dimensiones) o mas dimensiones para datos mas complejos (imagenes a color , videos )\n",
    "\n",
    "\n",
    "## Ejemplo \n",
    "\n",
    "Arreglo_datos = [[1,2,3],[4,5,6]]\n",
    "Tensor_dedatos = torch.tensor(Arreglo_datos)\n",
    "\n",
    "print(type(Tensor_dedatos))\n",
    "print(Tensor_dedatos)\n",
    "\n"
   ]
  },
  {
   "cell_type": "code",
   "execution_count": 16,
   "metadata": {},
   "outputs": [
    {
     "data": {
      "text/plain": [
       "device(type='cuda', index=0)"
      ]
     },
     "execution_count": 16,
     "metadata": {},
     "output_type": "execute_result"
    }
   ],
   "source": [
    "### Otra caracteristica es que estos datos pueden ser procesados tanto por gpu como cpu (torch.cuda.is_available())\n",
    "\n",
    "Tensor_dedatos.device #.device para saber donde se esta almacenando\n",
    "\n",
    "##Es posible cambiar el lugar de procesamiento con .to(cpu/cuda)\n",
    "#Tensor_dedatos.to(\"cuda\").device"
   ]
  },
  {
   "cell_type": "code",
   "execution_count": 17,
   "metadata": {},
   "outputs": [
    {
     "data": {
      "text/plain": [
       "torch.Size([2, 3])"
      ]
     },
     "execution_count": 17,
     "metadata": {},
     "output_type": "execute_result"
    }
   ],
   "source": [
    "## Al ser un arreglo de datos un Tensor tiene atributos \n",
    "Tensor_dedatos.shape"
   ]
  },
  {
   "cell_type": "markdown",
   "metadata": {},
   "source": [
    "DATA SET "
   ]
  },
  {
   "cell_type": "code",
   "execution_count": null,
   "metadata": {},
   "outputs": [],
   "source": [
    "## En pytorch existen 2 modulos que nos permitesn  cagar sets de datos \n",
    "\n",
    "torch.utils.data.DataLoader # Nos permite crear los bachs para entrenar el modelo (iterar sobre el data set )\n",
    "\n",
    "torch.utils.data.Dataset # Nos permite leer datos que esten almacenados en X lugar "
   ]
  },
  {
   "cell_type": "code",
   "execution_count": null,
   "metadata": {},
   "outputs": [],
   "source": [
    "# En caso de estar trabajando con imagenes usaremos \n",
    "import torchvision\n",
    "\n",
    "torchvision.dataset # El cual nos permite cargar el set de datos con imagenes "
   ]
  },
  {
   "cell_type": "markdown",
   "metadata": {},
   "source": [
    "Ahora Conociendo estos 2 conceptos (data set y tensor) podemos pasar a la practica "
   ]
  },
  {
   "cell_type": "code",
   "execution_count": null,
   "metadata": {},
   "outputs": [],
   "source": []
  }
 ],
 "metadata": {
  "kernelspec": {
   "display_name": "Python 3",
   "language": "python",
   "name": "python3"
  },
  "language_info": {
   "codemirror_mode": {
    "name": "ipython",
    "version": 3
   },
   "file_extension": ".py",
   "mimetype": "text/x-python",
   "name": "python",
   "nbconvert_exporter": "python",
   "pygments_lexer": "ipython3",
   "version": "3.11.9"
  }
 },
 "nbformat": 4,
 "nbformat_minor": 2
}
