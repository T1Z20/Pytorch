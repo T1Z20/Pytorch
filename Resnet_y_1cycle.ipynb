{
 "cells": [
  {
   "cell_type": "code",
   "execution_count": null,
   "metadata": {},
   "outputs": [],
   "source": [
    "import torch\n",
    "import numpy as np\n",
    "import torchvision\n",
    "from torchvision import datasets \n",
    "import torchvision.transforms  as T\n",
    "import matplotlib.pyplot as plt\n",
    "from torch.utils.data import DataLoader , random_split\n",
    "from torch import nn \n",
    "import torch.nn.functional as F\n",
    "device = torch.device('cuda' if torch.cuda.is_available() else 'gpu'  ) \n",
    "torch.manual_seed(13)"
   ]
  },
  {
   "cell_type": "code",
   "execution_count": null,
   "metadata": {},
   "outputs": [],
   "source": [
    "path= './DATASET/'\n",
    "device\n",
    "min_batch = 512\n",
    "TRAIN_SIZE = 50000\n",
    "VAL_SIZE = 5000\n",
    "TEST_SIZE = 5000"
   ]
  },
  {
   "cell_type": "code",
   "execution_count": null,
   "metadata": {},
   "outputs": [],
   "source": [
    "transform_cifar10_train = T.Compose([\n",
    "                T.RandomHorizontalFlip(p=0.3),\n",
    "                T.ColorJitter(brightness=0.1, contrast=0.1, hue = 0.05),\n",
    "                T.RandomApply([T.RandomRotation(10), T.Resize(40), T.CenterCrop(32)], p = 0.1),\n",
    "                T.ToTensor(),\n",
    "                T.Normalize([0.491, 0.482, 0.447], [0.247, 0.243, 0.262])\n",
    "            ])\n",
    "transform_cifar10_test = T.Compose([\n",
    "                T.ToTensor(),\n",
    "                T.Normalize([0.491, 0.482, 0.447], [0.247, 0.243, 0.262])\n",
    "            ])"
   ]
  },
  {
   "cell_type": "code",
   "execution_count": null,
   "metadata": {},
   "outputs": [],
   "source": [
    "cifar10_train = datasets.CIFAR10(path, train=True, download=False,transform=transform_cifar10_train)\n",
    "\n",
    "\n",
    "test_dataset = datasets.CIFAR10(path, train=False, download=False, transform=transform_cifar10_test)\n",
    "val_dataset, test_dataset = random_split(test_dataset, [VAL_SIZE, TEST_SIZE])\n",
    "\n",
    "val_loader = DataLoader(val_dataset, batch_size=min_batch, shuffle = True)\n",
    "train_loader = DataLoader(cifar10_train, batch_size=min_batch, shuffle = True)"
   ]
  },
  {
   "cell_type": "code",
   "execution_count": null,
   "metadata": {},
   "outputs": [],
   "source": [
    "# for i,(x, y) in enumerate(train_loader):\n",
    "#     print(i, x.shape, y.shape)"
   ]
  },
  {
   "cell_type": "code",
   "execution_count": null,
   "metadata": {},
   "outputs": [],
   "source": [
    "def plot_cifar10_grid():\n",
    "    classes = train_loader.dataset.classes\n",
    "    total_samples = 8\n",
    "    plt.figure(figsize=(15,15))\n",
    "    for label, sample in enumerate(classes):\n",
    "        class_idxs = np.flatnonzero(label == np.array(train_loader.dataset.targets))\n",
    "        sample_idxs = np.random.choice(class_idxs, total_samples, replace = False)\n",
    "        for i, idx in enumerate(sample_idxs):\n",
    "            plt_idx = i*len(classes) + label + 1\n",
    "            plt.subplot(total_samples, len(classes), plt_idx)\n",
    "            plt.imshow(train_loader.dataset.data[idx])\n",
    "            plt.axis('off')\n",
    "            \n",
    "            if i == 0: plt.title(sample)\n",
    "    plt.show()\n",
    "\n",
    "plot_cifar10_grid() "
   ]
  },
  {
   "cell_type": "markdown",
   "metadata": {},
   "source": [
    "# ResNet"
   ]
  },
  {
   "cell_type": "code",
   "execution_count": null,
   "metadata": {},
   "outputs": [],
   "source": [
    "def conlayer_K3P1(canal_in , canal_out , stride):\n",
    "    return nn.Conv2d(canal_in , canal_out , stride=stride , kernel_size=3 , padding=1)"
   ]
  },
  {
   "cell_type": "code",
   "execution_count": null,
   "metadata": {},
   "outputs": [],
   "source": [
    "class bloque_residual(nn.Module):\n",
    "    def __init__(self , in_channel , out_channel , stride=1 , change_size = True):\n",
    "        super().__init__() \n",
    "        ## CNN\n",
    "        self.conv1= conlayer_K3P1(in_channel , out_channel , stride )\n",
    "        self.bn1= nn.BatchNorm2d(out_channel)\n",
    "        self.conv2 = conlayer_K3P1(out_channel , out_channel , 1 )\n",
    "        self.bn2= nn.BatchNorm2d(out_channel)\n",
    "        # Para cambiar el map size : \n",
    "        self.change_size = change_size\n",
    "        if change_size : \n",
    "            self.residual = nn.Sequential(\n",
    "                \n",
    "                nn.Conv2d(in_channel ,\n",
    "                                    out_channel,\n",
    "                                    kernel_size=1 ,\n",
    "                                    stride=stride),\n",
    "                nn.BatchNorm2d(out_channel)\n",
    "                \n",
    "            )\n",
    "        \n",
    "    def forward(self, x ): \n",
    "        if not self.change_size:\n",
    "            residual_in= x  \n",
    "        else:\n",
    "            residual_in= x=self.residual(x)\n",
    "    \n",
    "        y = F.ReLU(self.bn1(self.conv1(x)))\n",
    "        y = self.bn2(self.conv2(y))\n",
    "        y = residual_in + y \n",
    "        return F.relu(y)\n",
    "            \n",
    "        "
   ]
  },
  {
   "cell_type": "code",
   "execution_count": null,
   "metadata": {},
   "outputs": [],
   "source": [
    "# n sirve para iterar la creacion de codigo y no tener que escribir N capas a mano\n",
    "\n",
    "class Resnet56(nn.Module):\n",
    "    def __init__(self , n=9 , num_classes=10):\n",
    "        super().__init__()\n",
    "        \n",
    "        self.conv1 = conlayer_K3P1(3,16 ,stride=1)\n",
    "        self.bn1 = nn.BatchNorm2d(16)\n",
    "        self.block1 = self.crete_block(n=9 , \n",
    "                                       in_channel=16 ,\n",
    "                                       out_channel=16 ,\n",
    "                                       stride=1 ,\n",
    "                                       change_size= False)\n",
    "       \n",
    "        self.block2 = self.crete_block(n=9 , in_channel=16 , \n",
    "                                       out_channel=32,\n",
    "                                       stride=2,\n",
    "                                       change_size=True)\n",
    "        \n",
    "        self.block3 = self.crete_block(n=9, in_channel=32,\n",
    "                                       out_channel=64,\n",
    "                                       stride=2,)\n",
    "        \n",
    "        self.avg_pool = nn.AdaptiveAvgPool2d\n",
    "        \n",
    "        self.fc = nn.Linear(64 , num_classes)\n",
    "        \n",
    "        \n",
    "    def crete_block (self , n , in_channel , out_channel , stride , change_size=True ):\n",
    "        block = [bloque_residual(in_channel , out_channel , stride , change_size )]\n",
    "        for i in range(n-1):\n",
    "            block.append(bloque_residual( out_channel , out_channel , stride=1 , change_size=False ))\n",
    "        return nn.Sequential(*block)\n",
    "    \n",
    "    def forward(self , x):\n",
    "        \n",
    "        y = F.relu(self.bn1(self.conv1(x)))\n",
    "        y = self.block1(y)\n",
    "        y = self.block2(y)\n",
    "        y = self.avg_pool(self.block3(y))\n",
    "        \n",
    "        return self.fc(y.view(y.size(0) , -1))\n",
    "        \n",
    "        "
   ]
  },
  {
   "cell_type": "code",
   "execution_count": null,
   "metadata": {},
   "outputs": [],
   "source": [
    "model = Resnet56()\n",
    "optimizer_resnet56 = torch.optim.SGD(model.parameters() , lr= 0.1 , momentum=0.95 , weight_decay=1e-4)"
   ]
  },
  {
   "cell_type": "markdown",
   "metadata": {},
   "source": [
    "# Train \n",
    "\n"
   ]
  },
  {
   "cell_type": "code",
   "execution_count": null,
   "metadata": {},
   "outputs": [],
   "source": []
  }
 ],
 "metadata": {
  "kernelspec": {
   "display_name": "Python 3",
   "language": "python",
   "name": "python3"
  },
  "language_info": {
   "codemirror_mode": {
    "name": "ipython",
    "version": 3
   },
   "file_extension": ".py",
   "mimetype": "text/x-python",
   "name": "python",
   "nbconvert_exporter": "python",
   "pygments_lexer": "ipython3",
   "version": "3.11.9"
  }
 },
 "nbformat": 4,
 "nbformat_minor": 2
}
