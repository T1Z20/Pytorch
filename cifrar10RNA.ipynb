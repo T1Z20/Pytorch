{
 "cells": [
  {
   "cell_type": "code",
   "execution_count": null,
   "metadata": {},
   "outputs": [],
   "source": [
    "import torch\n",
    "import torchvision\n",
    "from torchvision import datasets \n",
    "import torchvision.transforms  as T\n",
    "import matplotlib.pyplot as plt\n",
    "from torch.utils.data import DataLoader\n",
    "from torch import nn \n"
   ]
  },
  {
   "cell_type": "code",
   "execution_count": null,
   "metadata": {},
   "outputs": [],
   "source": [
    "Data_cifar = torchvision.datasets.CIFAR10 (\n",
    "    \n",
    "    root='./DATASET/', # donde queremos descargar \n",
    "    train=True, \n",
    "    #download=True,\n",
    "    transform= T.Compose([T.ToTensor() ,T.Normalize([0.485, 0.456, 0.406], [0.229, 0.224, 0.225])\n",
    "    ] ) #\n",
    ")"
   ]
  },
  {
   "cell_type": "code",
   "execution_count": null,
   "metadata": {},
   "outputs": [],
   "source": [
    "# observamos el algunos ejemplos del set de datos \n",
    "\n",
    "plot = plt.figure(figsize=(8,8))\n",
    "fila , columna = 3 ,3 \n",
    "\n",
    "for i in range(1 , columna * fila + 1 ):\n",
    "    pick = torch.randint(len(Data_cifar), size=(1,)).item()\n",
    "    \n",
    "    imgaen , label = Data_cifar[pick]\n",
    "    \n",
    "    plot.add_subplot(fila,columna,i)\n",
    "    plt.title(str(label))\n",
    "    plt.axis('off')\n",
    "    plt.imshow(imgaen.permute(1, 2, 0))\n",
    "plt.show()"
   ]
  },
  {
   "cell_type": "code",
   "execution_count": null,
   "metadata": {},
   "outputs": [],
   "source": [
    "print(len(Data_cifar))"
   ]
  },
  {
   "cell_type": "code",
   "execution_count": null,
   "metadata": {},
   "outputs": [],
   "source": [
    "##Para deividir el set de entrenamiento usaremos usaremos Prueba , validacion , entrenamiento = random_split() dentro de ( pondremos el data set y los procentajes  )\n",
    "\n",
    "\n",
    "entrenamiento , validacion , prueba = torch.utils.data.random_split( Data_cifar , [0.8 , 0.1 , 0.1] )\n",
    "\n",
    "\n",
    "print(len(entrenamiento))\n",
    "print(len(validacion))\n",
    "print(len(prueba))\n",
    "\n",
    "train_loader = DataLoader( \n",
    "    dataset=entrenamiento,                          \n",
    "    batch_size=32,                      \n",
    "    shuffle=True                       \n",
    "                          )\n",
    "\n",
    "val_loader = DataLoader(\n",
    "    dataset=validacion,\n",
    "    batch_size=32,\n",
    "    shuffle=True  \n",
    ")\n",
    "\n",
    "prueba_loader = DataLoader( \n",
    "        dataset=prueba,  \n",
    "        batch_size=32,                            \n",
    "        shuffle=True    \n",
    "                            )\n",
    "\n"
   ]
  },
  {
   "cell_type": "code",
   "execution_count": null,
   "metadata": {},
   "outputs": [],
   "source": [
    "class Redneuronal(nn.Module): ## al escribir nn.module estamos diciendo que la clase redneuronal es hija de module\n",
    "    ## estas 2 lineas de abajo siempre iran ya que son estandar de torch para hacer funcionar la red y inicializar el modelo\n",
    "    def __init__(self):\n",
    "        super().__init__() \n",
    "        #Ahora si modemos crear la arquitectura \n",
    "        \n",
    "        self.aplanar = nn.Flatten() # transforma el tensor de (1x28x28) en un vector de (1 , 784)\n",
    "        self.red = nn.Sequential( #Esto en torch es una forma de defininir un patron que indica una secuencia de capas aplicadas en el orden dado\n",
    "            \n",
    "            nn.Linear(32*32*3 , 100), ##Primero se define la capa de entrada + con cuantas neuronas se va a conectar (capa oculta)\n",
    "            nn.ReLU(), ##Aunque arriba hayamos definido la cantidad de neuronas de la capa oculta nos falta definir su funcion de activacion\n",
    "            nn.Linear(100,50), ## Decimos la capa de salida conectada con las 15 neuronas de la capa oculta \n",
    "            nn.ReLU(),\n",
    "            nn.Linear(50,10),\n",
    "        )\n",
    "        \n",
    "        \n",
    "    def forward(self , x ): # X hace referencia al dato de entrada y la secuancia que va a tomar\n",
    "        x = self.aplanar(x)\n",
    "        output = self.red(x)\n",
    "\n",
    "        return output\n"
   ]
  },
  {
   "cell_type": "code",
   "execution_count": null,
   "metadata": {},
   "outputs": [],
   "source": [
    "canal1 = 16 \n",
    "canal2 = 32 \n",
    "\n",
    "epocas = 10 \n",
    "\n",
    "class arquitectura_cnn(nn.Module): \n",
    "\n",
    "    def __init__(self):\n",
    "        super().__init__() \n",
    "       \n",
    "        \n",
    "        self.red = nn.Sequential( \n",
    "                nn.Conv2d(in_channels=3 , out_channels=canal1 , kernel_size=3 , padding=1) ,nn.LeakyReLU(),\n",
    "                nn.Conv2d(in_channels=canal1 , out_channels=canal2 , kernel_size=3 , padding=1) ,nn.LeakyReLU(),\n",
    "                nn.MaxPool2d(2,2) , \n",
    "                nn.Conv2d(in_channels=canal2 , out_channels=64 , kernel_size=3 , padding=1),nn.LeakyReLU(),\n",
    "                nn.Conv2d(in_channels=64 , out_channels=256 , kernel_size=3 , padding=1),nn.ReLU(),\n",
    "                nn.MaxPool2d(2,2) , \n",
    "                nn.Flatten(),\n",
    "                \n",
    "                nn.Linear(in_features=8*8*256 , out_features=256) , nn.ReLU() ,\n",
    "                nn.Linear( in_features=256 ,  out_features=10)\n",
    "                                 \n",
    "        )\n",
    "          \n",
    "    def forward(self , x ): \n",
    "\n",
    "        y = self.red(x)\n",
    "\n",
    "        return y\n"
   ]
  },
  {
   "cell_type": "code",
   "execution_count": null,
   "metadata": {},
   "outputs": [],
   "source": [
    "Modelo = arquitectura_cnn().to('cuda')\n",
    "Modelo\n",
    "\n",
    "Parametros = sum(p.numel() for p in Modelo.parameters()) #p.numel() accede a la cantidad de perametros por capa si itera y se suma\n",
    "print(f'La cantida de parametros es de  {Parametros}')\n",
    "print(Modelo)"
   ]
  },
  {
   "cell_type": "markdown",
   "metadata": {},
   "source": [
    "Hiperparametros \n"
   ]
  },
  {
   "cell_type": "code",
   "execution_count": null,
   "metadata": {},
   "outputs": [],
   "source": [
    "learning_rate = 0.0001\n",
    "Epochs = 15\n",
    "fun_perdida = nn.CrossEntropyLoss()\n",
    "optimizador = torch.optim.Adam(Modelo.parameters() , lr = learning_rate)"
   ]
  },
  {
   "cell_type": "code",
   "execution_count": null,
   "metadata": {},
   "outputs": [],
   "source": [
    "def entrenamiento_loop(data_loader, modelo, fun_perdida, optimizador): \n",
    "    train_size = len(data_loader.dataset)\n",
    "    nlotes = len(data_loader)\n",
    "    modelo.train()\n",
    "    \n",
    "    perdida, accuracy = 0, 0\n",
    "    \n",
    "    for batch_idx, (x, y) in enumerate(data_loader):\n",
    "        x, y = x.to(\"cuda\"), y.to('cuda')\n",
    "        # forward\n",
    "        probabilidad = modelo(x)\n",
    "        # backward\n",
    "        loss = fun_perdida(probabilidad, y)\n",
    "        loss.backward()\n",
    "        optimizador.step()\n",
    "        optimizador.zero_grad()\n",
    "    \n",
    "        perdida += loss.item()\n",
    "        accuracy += (probabilidad.argmax(1) == y).type(torch.float).sum().item()\n",
    "        \n",
    "        # Corrección: mostrar progreso cada 10 lotes\n",
    "        if batch_idx % 10 == 0: \n",
    "            current_loss = loss.item()\n",
    "            processed_samples = (batch_idx + 1) * len(x)\n",
    "            print(f'\\tPerdida: {current_loss:>7f} [{processed_samples:>5d}/{train_size:>5d}]')\n",
    "    \n",
    "    perdida /= nlotes\n",
    "    accuracy /= train_size\n",
    "    print(f'\\t Exactitud/perdida promedio:')\n",
    "    print(f'\\t\\t entrenamiento: {(100*accuracy):>0.2f}% / {perdida:>8f}')  # Aumentar precisión"
   ]
  },
  {
   "cell_type": "code",
   "execution_count": null,
   "metadata": {},
   "outputs": [],
   "source": [
    "def val_loop(data_loader, modelo, fun_perdida): \n",
    "    val_size = len(data_loader.dataset)\n",
    "    nlotes = len(data_loader)\n",
    "    \n",
    "    modelo.eval()\n",
    "    \n",
    "    perdida_val, accuracy = 0, 0\n",
    "    \n",
    "    with torch.no_grad():\n",
    "        for X, y in data_loader: \n",
    "            X, y = X.to('cuda'), y.to('cuda')\n",
    "            \n",
    "            probabilidad = modelo(X)\n",
    "            \n",
    "            perdida_val += fun_perdida(probabilidad, y).item()\n",
    "            accuracy += (probabilidad.argmax(1) == y).type(torch.float).sum().item()\n",
    "            \n",
    "    perdida_val /= nlotes\n",
    "    accuracy /= val_size\n",
    "    \n",
    "    print(f'\\t\\tValidacion: {(100*accuracy):>0.2f}% / {perdida_val:>8f} \\n')"
   ]
  },
  {
   "cell_type": "code",
   "execution_count": null,
   "metadata": {},
   "outputs": [],
   "source": [
    "for i in range(Epochs):\n",
    "    print(f'Epoca = {i+1} de {Epochs}')\n",
    "    \n",
    "    entrenamiento_loop(train_loader, Modelo, fun_perdida, optimizador)\n",
    "    \n",
    "    val_loop(val_loader, Modelo, fun_perdida)\n",
    "    \n",
    "print('listo')"
   ]
  },
  {
   "cell_type": "code",
   "execution_count": null,
   "metadata": {},
   "outputs": [],
   "source": []
  }
 ],
 "metadata": {
  "kernelspec": {
   "display_name": "Python 3",
   "language": "python",
   "name": "python3"
  },
  "language_info": {
   "codemirror_mode": {
    "name": "ipython",
    "version": 3
   },
   "file_extension": ".py",
   "mimetype": "text/x-python",
   "name": "python",
   "nbconvert_exporter": "python",
   "pygments_lexer": "ipython3",
   "version": "3.11.9"
  }
 },
 "nbformat": 4,
 "nbformat_minor": 2
}
