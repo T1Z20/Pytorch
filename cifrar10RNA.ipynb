{
 "cells": [
  {
   "cell_type": "code",
   "execution_count": null,
   "metadata": {},
   "outputs": [],
   "source": [
    "import torch\n",
    "import torchvision\n",
    "from torchvision import datasets \n",
    "import torchvision.transforms  as T\n",
    "import matplotlib.pyplot as plt\n",
    "from torch.utils.data import DataLoader\n",
    "from torch import nn \n",
    "import torch.nn.functional as F\n"
   ]
  },
  {
   "cell_type": "code",
   "execution_count": null,
   "metadata": {},
   "outputs": [],
   "source": [
    "Data_cifar = torchvision.datasets.CIFAR10 (\n",
    "    \n",
    "    root='./DATASET/', # donde queremos descargar \n",
    "    train=True, \n",
    "    #download=True,\n",
    "    transform= T.Compose([T.ToTensor() , #T.Normalize([0.485, 0.456, 0.406], [0.229, 0.224, 0.225])\n",
    "    ] ) #\n",
    ") "
   ]
  },
  {
   "cell_type": "code",
   "execution_count": null,
   "metadata": {},
   "outputs": [],
   "source": [
    "# observamos el algunos ejemplos del set de datos \n",
    "\n",
    "plot = plt.figure(figsize=(8,8))\n",
    "fila , columna = 3 ,3 \n",
    "\n",
    "for i in range(1 , columna * fila + 1 ):\n",
    "    pick = torch.randint(len(Data_cifar), size=(1,)).item()\n",
    "    \n",
    "    imgaen , label = Data_cifar[pick]\n",
    "    \n",
    "    plot.add_subplot(fila,columna,i)\n",
    "    plt.title(str(label))\n",
    "    plt.axis('off')\n",
    "    plt.imshow(imgaen.permute(1, 2, 0))\n",
    "plt.show()"
   ]
  },
  {
   "cell_type": "code",
   "execution_count": null,
   "metadata": {},
   "outputs": [],
   "source": [
    "print(len(Data_cifar))"
   ]
  },
  {
   "cell_type": "code",
   "execution_count": null,
   "metadata": {},
   "outputs": [],
   "source": [
    "##Para deividir el set de entrenamiento usaremos usaremos Prueba , validacion , entrenamiento = random_split() dentro de ( pondremos el data set y los procentajes  )\n",
    "\n",
    "\n",
    "entrenamiento , validacion , prueba = torch.utils.data.random_split( Data_cifar , [0.8 , 0.1 , 0.1] )\n",
    "\n",
    "\n",
    "print(len(entrenamiento))\n",
    "print(len(validacion))\n",
    "print(len(prueba))\n",
    "\n",
    "train_loader = DataLoader( \n",
    "    dataset=entrenamiento,                          \n",
    "    batch_size=512,                      \n",
    "    shuffle=True                       \n",
    "                          )\n",
    "\n",
    "val_loader = DataLoader(\n",
    "    dataset=validacion,\n",
    "    batch_size=512,\n",
    "    shuffle=True  \n",
    ")\n",
    "\n",
    "prueba_loader = DataLoader( \n",
    "        dataset=prueba,  \n",
    "        batch_size=32,                            \n",
    "        shuffle=True    \n",
    "                            )\n",
    "\n"
   ]
  },
  {
   "cell_type": "code",
   "execution_count": null,
   "metadata": {},
   "outputs": [],
   "source": [
    "class Redneuronal(nn.Module): \n",
    "    def __init__(self):\n",
    "        super().__init__() \n",
    "       \n",
    "        \n",
    "        self.aplanar = nn.Flatten() \n",
    "        self.red = nn.Sequential( \n",
    "            \n",
    "            nn.Linear(32*32*3 , 100), \n",
    "            nn.ReLU(), \n",
    "            nn.Linear(100,50), \n",
    "            nn.ReLU(),\n",
    "            nn.Linear(50,10),\n",
    "        )\n",
    "        \n",
    "        \n",
    "    def forward(self , x ): \n",
    "        x = self.aplanar(x)\n",
    "        output = self.red(x)\n",
    "\n",
    "        return output\n"
   ]
  },
  {
   "cell_type": "code",
   "execution_count": null,
   "metadata": {},
   "outputs": [],
   "source": [
    "\n",
    "\n",
    "class arquitectura_cnn(nn.Module): \n",
    "\n",
    "    def __init__(self , in_canal,canal1,canal2,canal3,canal4,canal5,in_FC, kernel_size):\n",
    "        super().__init__() \n",
    "       \n",
    "        \n",
    "        self.capa1_conv =nn.Conv2d(in_channels=in_canal , out_channels=canal1 , kernel_size=kernel_size , padding=1)\n",
    "        self.BN1 = nn.BatchNorm2d(num_features=canal1)\n",
    "        self.capa2_conv = nn.Conv2d(in_channels=canal1 , out_channels=canal2 , kernel_size=kernel_size , padding=1)\n",
    "        self.BN2 = nn.BatchNorm2d(num_features=canal2)\n",
    "        self.capa3_conv = nn.Conv2d(in_channels=canal2 , out_channels=canal3 , kernel_size=kernel_size , padding=1) \n",
    "        self.maxpool = nn.MaxPool2d(2,2) \n",
    "        self.capa4_conv = nn.Conv2d(in_channels=canal3 , out_channels=canal4 , kernel_size=kernel_size , padding=1)\n",
    "        self.BN3 = nn.BatchNorm2d(num_features=canal4)\n",
    "        self.capa5_conv = nn.Conv2d(in_channels=canal4 , out_channels=canal5 , kernel_size=kernel_size , padding=1)\n",
    "        self.flatten = nn.Flatten()\n",
    "        self.fc_capa1 = nn.Linear ( in_features=in_FC, out_features=256) \n",
    "        self.out_capa = nn.Linear( in_features=256 , out_features= 10)\n",
    "        \n",
    "       \n",
    "        \n",
    "        \n",
    "        \n",
    "    def forward(self , x ): \n",
    "\n",
    "        y = F.relu(self.capa3_conv(F.relu(self.BN2(self.capa2_conv(F.relu(self.BN1(self.capa1_conv(x))))))))\n",
    "        y = self.maxpool(y)\n",
    "        y = F.relu(self.capa5_conv(F.relu(self.BN3(self.capa4_conv(y)))))\n",
    "        y = self.maxpool(y)\n",
    "        y = self.flatten(y)\n",
    "        y = self.fc_capa1(y)\n",
    "        prediciccion = self.out_capa(y)\n",
    "        return prediciccion\n"
   ]
  },
  {
   "cell_type": "code",
   "execution_count": null,
   "metadata": {},
   "outputs": [],
   "source": [
    "entrada = 3 \n",
    "canal1 , canal2 , canal3 ,canal4 , canal5 , = 16 , 32 , 128 , 256 , 512\n",
    "\n",
    "in_fc =  8*8*canal5\n",
    "\n",
    "Modelo = arquitectura_cnn(entrada , canal1 , canal2 , canal3 ,canal4 , canal5, in_fc , 3 ).to('cuda')\n",
    "Modelo\n",
    "\n",
    "Parametros = sum(p.numel() for p in Modelo.parameters()) #p.numel() accede a la cantidad de perametros por capa si itera y se suma\n",
    "print(f'La cantida de parametros es de  {Parametros}')\n",
    "print(Modelo)"
   ]
  },
  {
   "cell_type": "markdown",
   "metadata": {},
   "source": [
    "Hiperparametros \n"
   ]
  },
  {
   "cell_type": "code",
   "execution_count": null,
   "metadata": {},
   "outputs": [],
   "source": [
    "learning_rate = 0.001\n",
    "Epochs = 10\n",
    "fun_perdida = nn.CrossEntropyLoss()\n",
    "optimizador = torch.optim.Adam(Modelo.parameters() , lr = learning_rate)"
   ]
  },
  {
   "cell_type": "code",
   "execution_count": null,
   "metadata": {},
   "outputs": [],
   "source": [
    "def entrenamiento_loop(data_loader, modelo, fun_perdida, optimizador): \n",
    "    train_size = len(data_loader.dataset)\n",
    "    nlotes = len(data_loader)\n",
    "    modelo.train()\n",
    "    \n",
    "    perdida, accuracy = 0, 0\n",
    "    \n",
    "    for batch_idx, (x, y) in enumerate(data_loader):\n",
    "        x, y = x.to(\"cuda\"), y.to('cuda')\n",
    "        # forward\n",
    "        probabilidad = modelo(x)\n",
    "        # backward\n",
    "        loss = fun_perdida(probabilidad, y)\n",
    "        loss.backward()\n",
    "        optimizador.step()\n",
    "        optimizador.zero_grad()\n",
    "    \n",
    "        perdida += loss.item()\n",
    "        accuracy += (probabilidad.argmax(1) == y).type(torch.float).sum().item()\n",
    "        \n",
    "        # Corrección: mostrar progreso cada 10 lotes\n",
    "        if batch_idx % 10 == 0: \n",
    "            current_loss = loss.item()\n",
    "            processed_samples = (batch_idx + 1) * len(x)\n",
    "            #print(f'\\tPerdida: {current_loss:>7f} [{processed_samples:>5d}/{train_size:>5d}]')\n",
    "    \n",
    "    perdida /= nlotes\n",
    "    accuracy /= train_size\n",
    "    print(f'\\t Exactitud/perdida promedio:')\n",
    "    print(f'\\t\\t entrenamiento: {(100*accuracy):>0.2f}% / {perdida:>8f}')  # Aumentar precisión"
   ]
  },
  {
   "cell_type": "code",
   "execution_count": null,
   "metadata": {},
   "outputs": [],
   "source": [
    "def val_loop(data_loader, modelo, fun_perdida): \n",
    "    val_size = len(data_loader.dataset)\n",
    "    nlotes = len(data_loader)\n",
    "    \n",
    "    modelo.eval()\n",
    "    \n",
    "    perdida_val, accuracy = 0, 0\n",
    "    \n",
    "    with torch.no_grad():\n",
    "        for X, y in data_loader: \n",
    "            X, y = X.to('cuda'), y.to('cuda')\n",
    "            \n",
    "            probabilidad = modelo(X)\n",
    "            \n",
    "            perdida_val += fun_perdida(probabilidad, y).item()\n",
    "            accuracy += (probabilidad.argmax(1) == y).type(torch.float).sum().item()\n",
    "            \n",
    "    perdida_val /= nlotes\n",
    "    accuracy /= val_size\n",
    "    \n",
    "    print(f'\\t\\tValidacion: {(100*accuracy):>0.2f}% / {perdida_val:>8f} \\n')"
   ]
  },
  {
   "cell_type": "code",
   "execution_count": null,
   "metadata": {},
   "outputs": [],
   "source": [
    "for i in range(Epochs):\n",
    "    print(f'Epoca = {i+1} de {Epochs}')\n",
    "    \n",
    "    entrenamiento_loop(train_loader, Modelo, fun_perdida, optimizador)\n",
    "    \n",
    "    val_loop(val_loader, Modelo, fun_perdida)\n",
    "    \n",
    "print('listo')"
   ]
  }
 ],
 "metadata": {
  "kernelspec": {
   "display_name": "Python 3",
   "language": "python",
   "name": "python3"
  },
  "language_info": {
   "codemirror_mode": {
    "name": "ipython",
    "version": 3
   },
   "file_extension": ".py",
   "mimetype": "text/x-python",
   "name": "python",
   "nbconvert_exporter": "python",
   "pygments_lexer": "ipython3",
   "version": "3.11.9"
  }
 },
 "nbformat": 4,
 "nbformat_minor": 2
}
