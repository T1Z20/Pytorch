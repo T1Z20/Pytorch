{
 "cells": [
  {
   "cell_type": "code",
   "execution_count": 1,
   "metadata": {},
   "outputs": [],
   "source": [
    "import torch\n",
    "import torchvision\n",
    "from torchvision import datasets \n",
    "import torchvision.transforms  as T\n",
    "import matplotlib.pyplot as plt\n",
    "from torch.utils.data import DataLoader\n",
    "from torch import nn \n",
    "import torch.nn.functional as F\n"
   ]
  },
  {
   "cell_type": "code",
   "execution_count": 2,
   "metadata": {},
   "outputs": [],
   "source": [
    "mnist = datasets.MNIST (\n",
    "    \n",
    "    root='./DATASET/',\n",
    "    train=True, \n",
    "    transform=T.ToTensor() \n",
    "    \n",
    ")"
   ]
  },
  {
   "cell_type": "code",
   "execution_count": 4,
   "metadata": {},
   "outputs": [],
   "source": [
    "train , val , test = torch.utils.data.random_split( mnist , [0.8 , 0.1 , 0.1] )\n",
    "\n",
    "train_loader = DataLoader(\n",
    "    \n",
    "    dataset= train,\n",
    "    shuffle = True,\n",
    "    batch_size=64\n",
    ")\n",
    "val_loader = DataLoader(\n",
    "    \n",
    "    dataset= val,\n",
    "    shuffle = True,\n",
    "    batch_size=64\n",
    ")\n"
   ]
  },
  {
   "cell_type": "code",
   "execution_count": 2,
   "metadata": {},
   "outputs": [],
   "source": [
    "def CNNlayer_K3P1(canal_in , canal_out , stride):\n",
    "    return nn.Conv2d(canal_in , canal_out , stride=stride , kernel_size=3 , padding=1)"
   ]
  },
  {
   "cell_type": "code",
   "execution_count": null,
   "metadata": {},
   "outputs": [],
   "source": [
    "class CNN_resnet(nn.Module):\n",
    "    def __init__(self , in_channel , out_channel , stride=1 , change_size = True):\n",
    "        super().__init__() \n",
    "        ## UN bloque de resnet sin la entrada residual : \n",
    "        self.conv1= CNNlayer_K3P1(in_channel , out_channel , stride )\n",
    "        self.bn1= nn.BatchNorm2d(out_channel)\n",
    "        self.conv2 = CNNlayer_K3P1(out_channel , out_channel , 1 )\n",
    "        self.bn2= nn.BatchNorm2d(out_channel)\n",
    "        # Para cambiar el map size : \n",
    "        if change_size : \n",
    "            self.residual = nn.Sequential(\n",
    "                \n",
    "                nn.Conv2d(in_channel ,\n",
    "                                    out_channel,\n",
    "                                    kernel_size=1 ,\n",
    "                                    stride=stride),\n",
    "                nn.BatchNorm2d(out_channel),nn\n",
    "                \n",
    "            )\n",
    "        \n",
    "        "
   ]
  }
 ],
 "metadata": {
  "kernelspec": {
   "display_name": "Python 3",
   "language": "python",
   "name": "python3"
  },
  "language_info": {
   "codemirror_mode": {
    "name": "ipython",
    "version": 3
   },
   "file_extension": ".py",
   "mimetype": "text/x-python",
   "name": "python",
   "nbconvert_exporter": "python",
   "pygments_lexer": "ipython3",
   "version": "3.11.9"
  }
 },
 "nbformat": 4,
 "nbformat_minor": 2
}
